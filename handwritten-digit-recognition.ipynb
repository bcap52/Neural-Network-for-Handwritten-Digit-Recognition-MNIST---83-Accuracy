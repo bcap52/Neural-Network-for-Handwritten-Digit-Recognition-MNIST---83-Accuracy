{
 "cells": [
  {
   "cell_type": "code",
   "execution_count": 1,
   "id": "819fa24b",
   "metadata": {
    "_cell_guid": "b1076dfc-b9ad-4769-8c92-a6c4dae69d19",
    "_uuid": "8f2839f25d086af736a60e9eeb907d3b93b6e0e5",
    "execution": {
     "iopub.execute_input": "2025-07-23T22:24:53.916801Z",
     "iopub.status.busy": "2025-07-23T22:24:53.916507Z",
     "iopub.status.idle": "2025-07-23T22:24:55.981148Z",
     "shell.execute_reply": "2025-07-23T22:24:55.980202Z"
    },
    "papermill": {
     "duration": 2.070033,
     "end_time": "2025-07-23T22:24:55.982918",
     "exception": false,
     "start_time": "2025-07-23T22:24:53.912885",
     "status": "completed"
    },
    "tags": []
   },
   "outputs": [],
   "source": [
    "\n",
    "\n",
    "import numpy as np # linear algebra\n",
    "import pandas as pd # data processing, CSV file I/O (e.g. pd.read_csv)\n",
    "import matplotlib.pyplot as plt # pyplot is for showing images\n"
   ]
  },
  {
   "cell_type": "code",
   "execution_count": 2,
   "id": "293486b8",
   "metadata": {
    "execution": {
     "iopub.execute_input": "2025-07-23T22:24:55.989132Z",
     "iopub.status.busy": "2025-07-23T22:24:55.988420Z",
     "iopub.status.idle": "2025-07-23T22:24:59.224671Z",
     "shell.execute_reply": "2025-07-23T22:24:59.223690Z"
    },
    "papermill": {
     "duration": 3.240905,
     "end_time": "2025-07-23T22:24:59.226472",
     "exception": false,
     "start_time": "2025-07-23T22:24:55.985567",
     "status": "completed"
    },
    "tags": []
   },
   "outputs": [],
   "source": [
    "data=pd.read_csv('/kaggle/input/digit-recognizer/train.csv')#reads the file"
   ]
  },
  {
   "cell_type": "code",
   "execution_count": 3,
   "id": "c194964c",
   "metadata": {
    "execution": {
     "iopub.execute_input": "2025-07-23T22:24:59.232417Z",
     "iopub.status.busy": "2025-07-23T22:24:59.231581Z",
     "iopub.status.idle": "2025-07-23T22:25:00.021650Z",
     "shell.execute_reply": "2025-07-23T22:25:00.020684Z"
    },
    "papermill": {
     "duration": 0.794694,
     "end_time": "2025-07-23T22:25:00.023376",
     "exception": false,
     "start_time": "2025-07-23T22:24:59.228682",
     "status": "completed"
    },
    "tags": []
   },
   "outputs": [],
   "source": [
    "data=np.array(data)#converting data to numpy array\n",
    "m,n=data.shape#m are rows and n are columns\n",
    "np.random.shuffle(data)\n",
    "#Development set\n",
    "dev_data=data[0:1000].T#transposing 1000 examples\n",
    "y_devdata=dev_data[0]#label\n",
    "x_devdata=dev_data[1:n]#actual data set \n",
    "\n",
    "#Training sets, remaining examples after 1000\n",
    "train_data=data[1000:m].T#transposing the rest of examples\n",
    "y_train=train_data[0]#labels, the first column\n",
    "x_train=train_data[1:n]#actual data set\n",
    "x_train=x_train/255\n",
    "_,m_train=x_train.shape"
   ]
  },
  {
   "cell_type": "code",
   "execution_count": 4,
   "id": "46374d17",
   "metadata": {
    "execution": {
     "iopub.execute_input": "2025-07-23T22:25:00.029385Z",
     "iopub.status.busy": "2025-07-23T22:25:00.028621Z",
     "iopub.status.idle": "2025-07-23T22:25:00.038267Z",
     "shell.execute_reply": "2025-07-23T22:25:00.037543Z"
    },
    "papermill": {
     "duration": 0.014177,
     "end_time": "2025-07-23T22:25:00.039804",
     "exception": false,
     "start_time": "2025-07-23T22:25:00.025627",
     "status": "completed"
    },
    "tags": []
   },
   "outputs": [],
   "source": [
    "#Parameters such as weights and biases\n",
    "def init_parameters():\n",
    "    w1=np.random.rand(10, 784) -0.5\n",
    "    b1=np.random.rand(10,1)-0.5\n",
    "    w2=np.random.rand(10,10)-0.5\n",
    "    b2=np.random.rand(10,1)-0.5\n",
    "    return w1,b1,w2,b2\n",
    "    \n",
    "def ReLU(z):#activation method for 0 to 1st layer\n",
    "    return np.maximum(0,z)\n",
    "\n",
    "\n",
    "def softmax(z):#activation method 1st to 2nd\n",
    "    A = np.exp(z)/sum(np.exp(z))#collapses all rows(examples) into one and summed across all the columns which we divide with to each element which gives us the probability\n",
    "    return A\n",
    "\n",
    "#forward propogation\n",
    "def forward_propogation(w1,b1,w2,b2,x):\n",
    "    z1=w1.dot(x)+b1\n",
    "    A1=ReLU(z1)\n",
    "    z2=w2.dot(A1)+b2\n",
    "    A2=softmax(z2)\n",
    "    return z1,A1,z2,A2\n",
    "\n",
    "def one_hot(Y):\n",
    "    one_hot_Y = np.zeros((Y.size, Y.max() + 1))\n",
    "    one_hot_Y[np.arange(Y.size), Y] = 1\n",
    "    one_hot_Y = one_hot_Y.T\n",
    "    return one_hot_Y\n",
    "\n",
    "def derivative_ReLU(z):\n",
    "    return z>0 #When z > 0: ReLU(z) = z, so derivative = 1\n",
    "\n",
    "#backwards propogation to find error\n",
    "def back_propogation(z1,A1,z2,A2,w1,w2,y,x):\n",
    "    encoded_y=one_hot(y)\n",
    "    dz2=A2-encoded_y\n",
    "    dw2=1/m*dz2.dot(A1.T)\n",
    "    db2=1/m*np.sum(dz2)\n",
    "    dz1=w2.T.dot(dz2)*derivative_ReLU(z1)\n",
    "    dw1=1/m*dz1.dot(x.T)\n",
    "    db1=1/m*np.sum(dz1)\n",
    "    return dw1, db1, dw2, db2\n",
    "\n",
    "\n",
    "#updates parameters\n",
    "def updata_param(w1,b1,w2,b2,dw2,db2,dw1,db1,alpha):\n",
    "    w1=w1-dw1*alpha #alpha is the learning rate of the training\n",
    "    b1=b1-db1*alpha\n",
    "    w2=w2-dw2*alpha \n",
    "    b2=b2-db2*alpha\n",
    "    return w1,b1,w2,b2\n",
    "\n",
    "\n",
    "    \n",
    "\n",
    "\n",
    "\n"
   ]
  },
  {
   "cell_type": "code",
   "execution_count": 5,
   "id": "c92deedc",
   "metadata": {
    "execution": {
     "iopub.execute_input": "2025-07-23T22:25:00.045740Z",
     "iopub.status.busy": "2025-07-23T22:25:00.044857Z",
     "iopub.status.idle": "2025-07-23T22:25:00.051758Z",
     "shell.execute_reply": "2025-07-23T22:25:00.050929Z"
    },
    "papermill": {
     "duration": 0.0112,
     "end_time": "2025-07-23T22:25:00.053207",
     "exception": false,
     "start_time": "2025-07-23T22:25:00.042007",
     "status": "completed"
    },
    "tags": []
   },
   "outputs": [],
   "source": [
    "def get_predictions(A2):\n",
    "    return np.argmax(A2,0)\n",
    "    \n",
    "\n",
    "                     \n",
    "def accuracy(predictions,y):\n",
    "    print(predictions,y)\n",
    "    return np.sum(predictions==y)/y.size\n",
    "\n",
    "\n",
    "def gradient_desc(x, y, iterations, alpha):\n",
    "    w1, b1, w2, b2 = init_parameters()\n",
    "    for i in range(iterations):\n",
    "        z1, A1, z2, A2 = forward_propogation(w1, b1, w2, b2, x)\n",
    "        dw1, db1, dw2, db2 = back_propogation(z1,A1,z2,A2,w1,w2,y,x)\n",
    "        w1, b1, w2, b2 = updata_param(w1, b1, w2, b2, dw2, db2, dw1, db1, alpha)\n",
    "        if(i % 10 == 0):\n",
    "            print(\"iteration:\", i)\n",
    "            print(\"Accuracy:\", accuracy(get_predictions(A2), y))        \n",
    "    return w1, b1, w2, b2"
   ]
  },
  {
   "cell_type": "code",
   "execution_count": 6,
   "id": "fb3306d1",
   "metadata": {
    "execution": {
     "iopub.execute_input": "2025-07-23T22:25:00.059458Z",
     "iopub.status.busy": "2025-07-23T22:25:00.059133Z",
     "iopub.status.idle": "2025-07-23T22:25:35.267539Z",
     "shell.execute_reply": "2025-07-23T22:25:35.266730Z"
    },
    "papermill": {
     "duration": 35.213071,
     "end_time": "2025-07-23T22:25:35.269108",
     "exception": false,
     "start_time": "2025-07-23T22:25:00.056037",
     "status": "completed"
    },
    "tags": []
   },
   "outputs": [
    {
     "name": "stdout",
     "output_type": "stream",
     "text": [
      "iteration: 0\n",
      "[6 4 4 ... 6 8 6] [1 6 0 ... 5 6 0]\n",
      "Accuracy: 0.0972439024390244\n",
      "iteration: 10\n",
      "[6 4 0 ... 6 4 0] [1 6 0 ... 5 6 0]\n",
      "Accuracy: 0.18180487804878048\n",
      "iteration: 20\n",
      "[6 4 0 ... 6 4 0] [1 6 0 ... 5 6 0]\n",
      "Accuracy: 0.23470731707317072\n",
      "iteration: 30\n",
      "[6 4 0 ... 6 4 0] [1 6 0 ... 5 6 0]\n",
      "Accuracy: 0.28641463414634144\n",
      "iteration: 40\n",
      "[6 4 0 ... 6 0 0] [1 6 0 ... 5 6 0]\n",
      "Accuracy: 0.3466341463414634\n",
      "iteration: 50\n",
      "[1 4 0 ... 6 0 0] [1 6 0 ... 5 6 0]\n",
      "Accuracy: 0.4000487804878049\n",
      "iteration: 60\n",
      "[1 4 0 ... 6 0 0] [1 6 0 ... 5 6 0]\n",
      "Accuracy: 0.4401219512195122\n",
      "iteration: 70\n",
      "[1 4 0 ... 6 0 0] [1 6 0 ... 5 6 0]\n",
      "Accuracy: 0.4732682926829268\n",
      "iteration: 80\n",
      "[1 9 0 ... 6 0 0] [1 6 0 ... 5 6 0]\n",
      "Accuracy: 0.5007317073170732\n",
      "iteration: 90\n",
      "[1 9 0 ... 8 0 0] [1 6 0 ... 5 6 0]\n",
      "Accuracy: 0.5251707317073171\n",
      "iteration: 100\n",
      "[1 9 0 ... 8 0 0] [1 6 0 ... 5 6 0]\n",
      "Accuracy: 0.5467317073170732\n",
      "iteration: 110\n",
      "[1 9 0 ... 8 4 0] [1 6 0 ... 5 6 0]\n",
      "Accuracy: 0.5682439024390243\n",
      "iteration: 120\n",
      "[1 9 0 ... 8 4 0] [1 6 0 ... 5 6 0]\n",
      "Accuracy: 0.5881951219512195\n",
      "iteration: 130\n",
      "[1 9 0 ... 8 4 0] [1 6 0 ... 5 6 0]\n",
      "Accuracy: 0.6076341463414634\n",
      "iteration: 140\n",
      "[1 5 0 ... 8 4 0] [1 6 0 ... 5 6 0]\n",
      "Accuracy: 0.6263658536585366\n",
      "iteration: 150\n",
      "[1 5 0 ... 3 4 0] [1 6 0 ... 5 6 0]\n",
      "Accuracy: 0.644219512195122\n",
      "iteration: 160\n",
      "[1 5 0 ... 3 4 0] [1 6 0 ... 5 6 0]\n",
      "Accuracy: 0.6614146341463415\n",
      "iteration: 170\n",
      "[1 5 0 ... 3 4 0] [1 6 0 ... 5 6 0]\n",
      "Accuracy: 0.6764878048780488\n",
      "iteration: 180\n",
      "[1 5 0 ... 3 4 0] [1 6 0 ... 5 6 0]\n",
      "Accuracy: 0.6924878048780487\n",
      "iteration: 190\n",
      "[1 5 0 ... 3 4 0] [1 6 0 ... 5 6 0]\n",
      "Accuracy: 0.7057073170731707\n",
      "iteration: 200\n",
      "[1 5 0 ... 3 4 0] [1 6 0 ... 5 6 0]\n",
      "Accuracy: 0.7185853658536585\n",
      "iteration: 210\n",
      "[1 5 0 ... 3 4 0] [1 6 0 ... 5 6 0]\n",
      "Accuracy: 0.7294146341463414\n",
      "iteration: 220\n",
      "[1 5 0 ... 3 4 0] [1 6 0 ... 5 6 0]\n",
      "Accuracy: 0.7393414634146341\n",
      "iteration: 230\n",
      "[1 5 0 ... 3 4 0] [1 6 0 ... 5 6 0]\n",
      "Accuracy: 0.7487073170731707\n",
      "iteration: 240\n",
      "[1 5 0 ... 3 4 0] [1 6 0 ... 5 6 0]\n",
      "Accuracy: 0.7578536585365854\n",
      "iteration: 250\n",
      "[1 5 0 ... 3 4 0] [1 6 0 ... 5 6 0]\n",
      "Accuracy: 0.7652439024390244\n",
      "iteration: 260\n",
      "[1 5 0 ... 5 4 0] [1 6 0 ... 5 6 0]\n",
      "Accuracy: 0.7726585365853659\n",
      "iteration: 270\n",
      "[1 5 0 ... 5 4 0] [1 6 0 ... 5 6 0]\n",
      "Accuracy: 0.7789024390243903\n",
      "iteration: 280\n",
      "[1 5 0 ... 5 4 0] [1 6 0 ... 5 6 0]\n",
      "Accuracy: 0.7839268292682927\n",
      "iteration: 290\n",
      "[1 5 0 ... 5 4 0] [1 6 0 ... 5 6 0]\n",
      "Accuracy: 0.7886585365853659\n",
      "iteration: 300\n",
      "[1 5 0 ... 5 4 0] [1 6 0 ... 5 6 0]\n",
      "Accuracy: 0.7939756097560976\n",
      "iteration: 310\n",
      "[1 5 0 ... 5 4 0] [1 6 0 ... 5 6 0]\n",
      "Accuracy: 0.7984634146341464\n",
      "iteration: 320\n",
      "[1 5 0 ... 5 4 0] [1 6 0 ... 5 6 0]\n",
      "Accuracy: 0.802609756097561\n",
      "iteration: 330\n",
      "[1 5 0 ... 5 4 0] [1 6 0 ... 5 6 0]\n",
      "Accuracy: 0.8059756097560976\n",
      "iteration: 340\n",
      "[1 5 0 ... 5 4 0] [1 6 0 ... 5 6 0]\n",
      "Accuracy: 0.8093902439024391\n",
      "iteration: 350\n",
      "[1 5 0 ... 5 6 0] [1 6 0 ... 5 6 0]\n",
      "Accuracy: 0.8124146341463415\n",
      "iteration: 360\n",
      "[1 5 0 ... 5 6 0] [1 6 0 ... 5 6 0]\n",
      "Accuracy: 0.8155121951219512\n",
      "iteration: 370\n",
      "[1 5 0 ... 5 6 0] [1 6 0 ... 5 6 0]\n",
      "Accuracy: 0.8186341463414634\n",
      "iteration: 380\n",
      "[1 5 0 ... 5 6 0] [1 6 0 ... 5 6 0]\n",
      "Accuracy: 0.8215853658536585\n",
      "iteration: 390\n",
      "[1 5 0 ... 5 6 0] [1 6 0 ... 5 6 0]\n",
      "Accuracy: 0.824170731707317\n",
      "iteration: 400\n",
      "[1 5 0 ... 5 6 0] [1 6 0 ... 5 6 0]\n",
      "Accuracy: 0.8265853658536585\n",
      "iteration: 410\n",
      "[1 5 0 ... 5 6 2] [1 6 0 ... 5 6 0]\n",
      "Accuracy: 0.8290243902439024\n",
      "iteration: 420\n",
      "[1 5 0 ... 5 6 2] [1 6 0 ... 5 6 0]\n",
      "Accuracy: 0.8312926829268292\n",
      "iteration: 430\n",
      "[1 5 0 ... 5 6 2] [1 6 0 ... 5 6 0]\n",
      "Accuracy: 0.8334878048780487\n",
      "iteration: 440\n",
      "[1 5 0 ... 5 6 2] [1 6 0 ... 5 6 0]\n",
      "Accuracy: 0.8354390243902439\n",
      "iteration: 450\n",
      "[1 5 0 ... 5 6 2] [1 6 0 ... 5 6 0]\n",
      "Accuracy: 0.8374390243902439\n",
      "iteration: 460\n",
      "[1 5 0 ... 5 6 2] [1 6 0 ... 5 6 0]\n",
      "Accuracy: 0.8392926829268292\n",
      "iteration: 470\n",
      "[1 5 0 ... 5 6 2] [1 6 0 ... 5 6 0]\n",
      "Accuracy: 0.8411219512195122\n",
      "iteration: 480\n",
      "[1 5 0 ... 5 6 2] [1 6 0 ... 5 6 0]\n",
      "Accuracy: 0.842780487804878\n",
      "iteration: 490\n",
      "[1 5 0 ... 5 6 2] [1 6 0 ... 5 6 0]\n",
      "Accuracy: 0.8443658536585366\n"
     ]
    }
   ],
   "source": [
    "w1,b1,w2,b2 =gradient_desc(x_train,y_train,500,0.10)"
   ]
  },
  {
   "cell_type": "code",
   "execution_count": 7,
   "id": "7524b08e",
   "metadata": {
    "execution": {
     "iopub.execute_input": "2025-07-23T22:25:35.279909Z",
     "iopub.status.busy": "2025-07-23T22:25:35.279113Z",
     "iopub.status.idle": "2025-07-23T22:25:35.285040Z",
     "shell.execute_reply": "2025-07-23T22:25:35.284220Z"
    },
    "papermill": {
     "duration": 0.012654,
     "end_time": "2025-07-23T22:25:35.286474",
     "exception": false,
     "start_time": "2025-07-23T22:25:35.273820",
     "status": "completed"
    },
    "tags": []
   },
   "outputs": [],
   "source": [
    "def make_predictions(x, w1, b1, w2, b2):\n",
    "    _, _, _, A2 = forward_propogation(w1, b1, w2, b2,x)\n",
    "    predictions = get_predictions(A2)\n",
    "    return predictions\n",
    "\n",
    "def test_prediction(index, w1, b1, w2, b2):\n",
    "    current_image = x_train[:, index, None]\n",
    "    prediction = make_predictions(x_train[:, index, None], w1, b1, w2, b2)\n",
    "    label = y_train[index]\n",
    "    print(\"Prediction: \", prediction)\n",
    "    print(\"Label: \", label)\n",
    "    \n",
    "    current_image = current_image.reshape((28, 28)) * 255\n",
    "    plt.gray()\n",
    "    plt.imshow(current_image, interpolation='nearest')\n",
    "    plt.show()"
   ]
  },
  {
   "cell_type": "code",
   "execution_count": 8,
   "id": "f83453cc",
   "metadata": {
    "execution": {
     "iopub.execute_input": "2025-07-23T22:25:35.297276Z",
     "iopub.status.busy": "2025-07-23T22:25:35.296514Z",
     "iopub.status.idle": "2025-07-23T22:25:35.592706Z",
     "shell.execute_reply": "2025-07-23T22:25:35.591814Z"
    },
    "papermill": {
     "duration": 0.302913,
     "end_time": "2025-07-23T22:25:35.593988",
     "exception": false,
     "start_time": "2025-07-23T22:25:35.291075",
     "status": "completed"
    },
    "tags": []
   },
   "outputs": [
    {
     "name": "stdout",
     "output_type": "stream",
     "text": [
      "Prediction:  [7]\n",
      "Label:  7\n"
     ]
    },
    {
     "data": {
      "image/png": "[encoded data removed]",
      "text/plain": [
       "<Figure size 640x480 with 1 Axes>"
      ]
     },
     "metadata": {},
     "output_type": "display_data"
    }
   ],
   "source": [
    "test_prediction(1042, w1, b1, w2, b2)\n"
   ]
  }
 ],
 "metadata": {
  "kaggle": {
   "accelerator": "none",
   "dataSources": [
    {
     "databundleVersionId": 861823,
     "sourceId": 3004,
     "sourceType": "competition"
    }
   ],
   "dockerImageVersionId": 31089,
   "isGpuEnabled": false,
   "isInternetEnabled": false,
   "language": "python",
   "sourceType": "notebook"
  },
  "kernelspec": {
   "display_name": "Python 3",
   "language": "python",
   "name": "python3"
  },
  "language_info": {
   "codemirror_mode": {
    "name": "ipython",
    "version": 3
   },
   "file_extension": ".py",
   "mimetype": "text/x-python",
   "name": "python",
   "nbconvert_exporter": "python",
   "pygments_lexer": "ipython3",
   "version": "3.11.13"
  },
  "papermill": {
   "default_parameters": {},
   "duration": 47.427003,
   "end_time": "2025-07-23T22:25:36.118913",
   "environment_variables": {},
   "exception": null,
   "input_path": "__notebook__.ipynb",
   "output_path": "__notebook__.ipynb",
   "parameters": {},
   "start_time": "2025-07-23T22:24:48.691910",
   "version": "2.6.0"
  }
 },
 "nbformat": 4,
 "nbformat_minor": 5
}
